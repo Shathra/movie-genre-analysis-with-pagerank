{
 "cells": [
  {
   "cell_type": "code",
   "execution_count": null,
   "id": "5a84861c",
   "metadata": {},
   "outputs": [],
   "source": [
    "import mga\n",
    "import mga.dataset"
   ]
  },
  {
   "cell_type": "code",
   "execution_count": null,
   "id": "85e82c5e",
   "metadata": {},
   "outputs": [],
   "source": [
    "import mga.pagerank"
   ]
  },
  {
   "cell_type": "code",
   "execution_count": null,
   "id": "30057caf",
   "metadata": {},
   "outputs": [],
   "source": [
    "mga.pagerank?"
   ]
  },
  {
   "cell_type": "code",
   "execution_count": null,
   "id": "80a3f622",
   "metadata": {},
   "outputs": [],
   "source": [
    "mga.dataset.download_ml_small(force_download=True)"
   ]
  },
  {
   "cell_type": "code",
   "execution_count": null,
   "id": "e7501f7b",
   "metadata": {},
   "outputs": [],
   "source": [
    "mga.clean()"
   ]
  },
  {
   "cell_type": "code",
   "execution_count": null,
   "id": "41790e2f",
   "metadata": {},
   "outputs": [],
   "source": [
    "!./cpp/generate ratings.mtx\n",
    "# Creates edges.csv"
   ]
  },
  {
   "cell_type": "code",
   "execution_count": null,
   "id": "9b9689e6",
   "metadata": {},
   "outputs": [],
   "source": [
    "import pandas as pd\n",
    "import numpy as np\n",
    "import sknetwork as skn\n",
    "from tqdm import tqdm"
   ]
  },
  {
   "cell_type": "code",
   "execution_count": null,
   "id": "8e8bbf61",
   "metadata": {},
   "outputs": [],
   "source": [
    "movie_df = pd.read_csv('movies.csv')\n",
    "movie_count = movie_df.shape[0]"
   ]
  },
  {
   "cell_type": "code",
   "execution_count": null,
   "id": "0b428007",
   "metadata": {},
   "outputs": [],
   "source": [
    "edge_df = pd.read_csv('edges.csv')"
   ]
  },
  {
   "cell_type": "code",
   "execution_count": null,
   "id": "f523286d",
   "metadata": {},
   "outputs": [],
   "source": [
    "G = skn.data.convert_edge_list(edge_df.values, directed=True)\n",
    "print('Graph is imported')\n",
    "M_adj = G.adjacency\n",
    "M_adj = M_adj + M_adj.T"
   ]
  },
  {
   "cell_type": "code",
   "execution_count": null,
   "id": "77aafaac",
   "metadata": {},
   "outputs": [],
   "source": [
    "edge_count = M_adj.nnz\n",
    "\n",
    "print(f'Edge count: {edge_count}')\n",
    "print(f'Vertex count: {movie_count}')\n",
    "\n",
    "density = edge_count / (movie_count * (movie_count - 1))\n",
    "\n",
    "print(f'Density: {density:.4f}')\n",
    "\n",
    "zero_in_edge_node_count = (M_adj.sum(axis=0) == 0).sum()\n",
    "print(f'Nodes with 0 incoming edges : {zero_in_edge_node_count}')\n",
    "zero_out_edge_node_count = (M_adj.sum(axis=1) == 0).sum()\n",
    "print(f'Nodes with 0 outgoing edges : {zero_out_edge_node_count}')\n",
    "\n",
    "# Normalize weights\n",
    "\n",
    "row_sum = np.asarray(M_adj.sum(axis=1)).squeeze()\n",
    "row_sum[row_sum == 0] = 1\n",
    "M_adj.data /= row_sum[M_adj.nonzero()[0]]\n",
    "\n",
    "G.adjacency = M_adj"
   ]
  },
  {
   "cell_type": "code",
   "execution_count": null,
   "id": "bcb35ac7",
   "metadata": {},
   "outputs": [],
   "source": [
    "# PARAMETERS\n",
    "\n",
    "DIFFERENT_ALPHA_POLICY = 0\n",
    "SAME_ALPHA_POLICY = 1\n",
    "\n",
    "teleport_prob = 0.15\n",
    "unlabeled_movie_set = set()\n",
    "policy = DIFFERENT_ALPHA_POLICY\n",
    "disable_progress_bar = False"
   ]
  },
  {
   "cell_type": "code",
   "execution_count": null,
   "id": "97185ae6",
   "metadata": {},
   "outputs": [],
   "source": [
    "damping_factor = 1 - teleport_prob\n",
    "\n",
    "pagerank = skn.ranking.pagerank.PageRank(damping_factor=damping_factor, n_iter=50)\n",
    "scores = pagerank.fit_transform(G.adjacency)\n",
    "movie_df['pagerank'] = pd.Series(scores)\n",
    "\n",
    "print('Classic pagerank completed')"
   ]
  },
  {
   "cell_type": "code",
   "execution_count": null,
   "id": "1cdd5d60",
   "metadata": {},
   "outputs": [],
   "source": [
    "# Creating personalization sets\n",
    "with open('genre.txt') as file:\n",
    "    genre_set = set(line.strip() for line in file)\n",
    "\n",
    "genre2movies = {genre: [] for genre in genre_set}\n",
    "for movie_id, genre_str in zip(movie_df['id'], movie_df['genres']):\n",
    "\n",
    "    if movie_id in unlabeled_movie_set:\n",
    "        continue\n",
    "\n",
    "    genre_lst = genre_str.split('|')\n",
    "    for genre in genre_lst:\n",
    "        if genre in genre2movies:\n",
    "            genre2movies[genre].append(movie_id)\n",
    "\n",
    "genre2count = {genre: len(movies) for genre, movies in genre2movies.items()}\n",
    "\n",
    "# Topic-specific Pagerank teleport set generation\n",
    "if policy == DIFFERENT_ALPHA_POLICY:\n",
    "    # Different alpha values\n",
    "    prob_teleport_each_movie = teleport_prob / genre2count['Thriller']\n",
    "    genre2teleport_prob = {genre: prob_teleport_each_movie * count for genre, count in genre2count.items()}\n",
    "    print(genre2teleport_prob)\n",
    "    prob_teleport_each_movie = {genre: prob_teleport_each_movie for genre, count in genre2count.items()}\n",
    "    print(prob_teleport_each_movie)\n",
    "else:\n",
    "    # Same alpha value\n",
    "    prob_teleport_each_movie = {genre: teleport_prob / count for genre, count in genre2count.items()}\n",
    "    genre2teleport_prob = {genre: teleport_prob for genre, count in genre2count.items()}\n",
    "\n",
    "print('Teleport sets are created')"
   ]
  },
  {
   "cell_type": "code",
   "execution_count": null,
   "id": "e984898f",
   "metadata": {},
   "outputs": [],
   "source": [
    "# Topic-specific Pagerank\n",
    "for genre in tqdm(genre2movies, disable=disable_progress_bar):\n",
    "    personalization_dict = {movie_id: 1 for movie_id in genre2movies[genre]}\n",
    "    damping_factor = 1 - genre2teleport_prob[genre]\n",
    "    \n",
    "    pagerank = skn.ranking.PageRank(damping_factor=damping_factor, n_iter=50)\n",
    "    result = pagerank.fit_transform(G.adjacency, seeds=personalization_dict)\n",
    "    movie_df[genre] = pd.Series(result)"
   ]
  }
 ],
 "metadata": {
  "kernelspec": {
   "display_name": "Python 3 (ipykernel)",
   "language": "python",
   "name": "python3"
  },
  "language_info": {
   "codemirror_mode": {
    "name": "ipython",
    "version": 3
   },
   "file_extension": ".py",
   "mimetype": "text/x-python",
   "name": "python",
   "nbconvert_exporter": "python",
   "pygments_lexer": "ipython3",
   "version": "3.9.7"
  }
 },
 "nbformat": 4,
 "nbformat_minor": 5
}
