{
 "cells": [
  {
   "cell_type": "code",
   "execution_count": 10,
   "id": "570c6430",
   "metadata": {},
   "outputs": [],
   "source": [
    "import mga.dataset as dataset\n",
    "from pathlib import Path\n",
    "import pandas as pd"
   ]
  },
  {
   "cell_type": "code",
   "execution_count": 11,
   "id": "21e52527",
   "metadata": {},
   "outputs": [
    {
     "data": {
      "text/plain": [
       "'ratings.csv'"
      ]
     },
     "execution_count": 11,
     "metadata": {},
     "output_type": "execute_result"
    }
   ],
   "source": [
    "dataset.download_ml_small(force_download=True)"
   ]
  },
  {
   "cell_type": "code",
   "execution_count": 2,
   "id": "bd9d63c1",
   "metadata": {},
   "outputs": [
    {
     "data": {
      "text/plain": [
       "'ratings.csv'"
      ]
     },
     "execution_count": 2,
     "metadata": {},
     "output_type": "execute_result"
    }
   ],
   "source": [
    "dataset.download_ml_25m()"
   ]
  },
  {
   "cell_type": "code",
   "execution_count": 12,
   "id": "0cd7bea6",
   "metadata": {},
   "outputs": [],
   "source": [
    "movie_df = pd.read_csv('movies.csv')\n",
    "link_df = pd.read_csv('links.csv')"
   ]
  },
  {
   "cell_type": "code",
   "execution_count": 13,
   "id": "089f88a5",
   "metadata": {},
   "outputs": [],
   "source": [
    "movie_df['imdb_id'] = link_df['imdbId']\n",
    "movie_df['tmdb_id'] = link_df['tmdbId']\n",
    "movie_df = movie_df.rename(columns={'movieId': 'movielens_id'})\n",
    "movie_df[movie_df['genres'] == 'IMAX']['genres'] = '(no genres listed)'\n",
    "movie_df.to_csv('movies.csv', index_label='id')"
   ]
  },
  {
   "cell_type": "code",
   "execution_count": 14,
   "id": "5ebd718e",
   "metadata": {},
   "outputs": [],
   "source": [
    "rating_df = pd.read_csv('ratings.csv')\n",
    "del rating_df['timestamp']\n",
    "\n",
    "movilens2id = pd.DataFrame(data=movie_df.index, index=movie_df['movielens_id'])\n",
    "rating_df['movieId'] = movilens2id.loc[rating_df['movieId']].values\n",
    "\n",
    "id2movielens = pd.Series(rating_df['userId'].drop_duplicates().sort_values().values)\n",
    "movielens2id = pd.Series(data=id2movielens.index, index=id2movielens)\n",
    "rating_df['userId'] = movielens2id.loc[rating_df['userId']].values\n",
    "\n",
    "rating_df = rating_df.rename(columns={'userId': 'user_id'})\n",
    "rating_df = rating_df.rename(columns={'movieId': 'movie_id'})\n",
    "rating_df.to_csv('ratings.csv', index=False)"
   ]
  }
 ],
 "metadata": {
  "kernelspec": {
   "display_name": "Python 3 (ipykernel)",
   "language": "python",
   "name": "python3"
  },
  "language_info": {
   "codemirror_mode": {
    "name": "ipython",
    "version": 3
   },
   "file_extension": ".py",
   "mimetype": "text/x-python",
   "name": "python",
   "nbconvert_exporter": "python",
   "pygments_lexer": "ipython3",
   "version": "3.9.7"
  }
 },
 "nbformat": 4,
 "nbformat_minor": 5
}
