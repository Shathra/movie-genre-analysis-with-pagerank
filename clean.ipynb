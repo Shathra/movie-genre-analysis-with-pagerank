{
 "cells": [
  {
   "cell_type": "code",
   "execution_count": 1,
   "id": "570c6430",
   "metadata": {},
   "outputs": [],
   "source": [
    "import mga.dataset as dataset\n",
    "from pathlib import Path\n",
    "import pandas as pd"
   ]
  },
  {
   "cell_type": "code",
   "execution_count": null,
   "id": "21e52527",
   "metadata": {},
   "outputs": [],
   "source": [
    "dataset.download_ml_small(force_download=True)"
   ]
  },
  {
   "cell_type": "code",
   "execution_count": null,
   "id": "bd9d63c1",
   "metadata": {},
   "outputs": [],
   "source": [
    "dataset.download_ml_25m(force_download=True)"
   ]
  },
  {
   "cell_type": "code",
   "execution_count": 2,
   "id": "0cd7bea6",
   "metadata": {},
   "outputs": [],
   "source": [
    "movie_df = pd.read_csv('movies.csv')\n",
    "link_df = pd.read_csv('links.csv')"
   ]
  },
  {
   "cell_type": "code",
   "execution_count": 3,
   "id": "089f88a5",
   "metadata": {},
   "outputs": [],
   "source": [
    "movie_df['imdb_id'] = link_df['imdbId']\n",
    "movie_df['tmdb_id'] = link_df['tmdbId']\n",
    "movie_df = movie_df.rename(columns={'movieId': 'movielens_id'})"
   ]
  },
  {
   "cell_type": "code",
   "execution_count": 4,
   "id": "812e9598",
   "metadata": {},
   "outputs": [
    {
     "name": "stdout",
     "output_type": "stream",
     "text": [
      "Total number of movies with no genre: 5062\n",
      "Genres (19): {'Film-Noir', 'Comedy', 'Action', 'Crime', 'Western', 'Fantasy', 'Mystery', 'Documentary', 'Drama', 'Thriller', 'Musical', 'Children', 'War', 'Sci-Fi', 'Romance', 'Animation', 'IMAX', 'Horror', 'Adventure'}\n",
      "Ignored genres: {'Film-Noir', 'Animation', 'IMAX', 'Documentary'}\n"
     ]
    }
   ],
   "source": [
    "genre_set = set()\n",
    "for genre_str in movie_df['genres']:\n",
    "    genre_lst = genre_str.split('|')\n",
    "    for genre in genre_lst:\n",
    "        genre_set.add(genre)\n",
    "\n",
    "no_genre_key = '(no genres listed)'\n",
    "\n",
    "count_movie_with_no_genre = sum(movie_df['genres'] == no_genre_key)\n",
    "print(f'Total number of movies with no genre: {count_movie_with_no_genre}')\n",
    "genre_set.remove(no_genre_key)\n",
    "\n",
    "ignored_genre_set = {'IMAX', 'Film-Noir', 'Animation', 'Documentary'}\n",
    "\n",
    "print(f'Genres ({len(genre_set)}): {genre_set}')\n",
    "print(f'Ignored genres: {ignored_genre_set}')\n",
    "\n",
    "with open('genre.txt', 'w') as file:\n",
    "    for genre in genre_set:\n",
    "        file.write(f'{genre}\\n')"
   ]
  },
  {
   "cell_type": "code",
   "execution_count": 5,
   "id": "5ebd718e",
   "metadata": {},
   "outputs": [
    {
     "name": "stdout",
     "output_type": "stream",
     "text": [
      "Dropped movie count: 42389\n",
      "New movie count: 20034\n"
     ]
    }
   ],
   "source": [
    "rating_df = pd.read_csv('ratings.csv')\n",
    "del rating_df['timestamp']\n",
    "rating_df = rating_df.rename(columns={'userId': 'user_id', 'movieId': 'movie_id'})\n",
    "\n",
    "# Get movies with view count larger than the threshold\n",
    "MIN_MOVIE_VIEW_THRESHOLD = 15\n",
    "\n",
    "df_count = rating_df[['movie_id', 'rating']].groupby('movie_id').aggregate(['count'])\n",
    "df_count.columns = df_count.columns.droplevel()\n",
    "df_count = df_count.loc[df_count['count'] > MIN_MOVIE_VIEW_THRESHOLD]\n",
    "\n",
    "# Filter rating df\n",
    "rating_df = rating_df[rating_df['movie_id'].isin(df_count.index)]\n",
    "\n",
    "# Filter movie df and reset index\n",
    "old_movie_count = movie_df.shape[0]\n",
    "movie_df = movie_df[movie_df['movielens_id'].isin(df_count.index)]\n",
    "movie_df = movie_df.reset_index(drop=True)\n",
    "new_movie_count = movie_df.shape[0]\n",
    "dropped_movie_count = old_movie_count - new_movie_count\n",
    "print(f'Dropped movie count: {dropped_movie_count}')\n",
    "print(f'New movie count: {new_movie_count}')\n",
    "\n",
    "movilens2id = pd.DataFrame(data=movie_df.index, index=movie_df['movielens_id'])\n",
    "rating_df['movie_id'] = movilens2id.loc[rating_df['movie_id']].values\n",
    "\n",
    "id2movielens = pd.Series(rating_df['user_id'].drop_duplicates().sort_values().values)\n",
    "movielens2id = pd.Series(data=id2movielens.index, index=id2movielens)\n",
    "rating_df['user_id'] = movielens2id.loc[rating_df['user_id']].values\n",
    "\n",
    "movie_df.to_csv('movies.csv', index_label='id')"
   ]
  },
  {
   "cell_type": "code",
   "execution_count": 6,
   "id": "4d1275db",
   "metadata": {},
   "outputs": [],
   "source": [
    "row_count = rating_df['user_id'].max() + 1\n",
    "col_count = rating_df['movie_id'].max() + 1\n",
    "nnz_count = rating_df.shape[0]\n",
    "\n",
    "with open('ratings.mtx', 'w') as file:\n",
    "    file.write(f'{row_count} {col_count} {nnz_count}\\n')\n",
    "    rating_df.to_csv(file, index=False, sep=' ', header=False)"
   ]
  },
  {
   "cell_type": "code",
   "execution_count": 7,
   "id": "6e3bf36f",
   "metadata": {},
   "outputs": [],
   "source": [
    "Path(\"ratings.csv\").unlink()\n",
    "Path(\"links.csv\").unlink()"
   ]
  }
 ],
 "metadata": {
  "kernelspec": {
   "display_name": "Python 3 (ipykernel)",
   "language": "python",
   "name": "python3"
  },
  "language_info": {
   "codemirror_mode": {
    "name": "ipython",
    "version": 3
   },
   "file_extension": ".py",
   "mimetype": "text/x-python",
   "name": "python",
   "nbconvert_exporter": "python",
   "pygments_lexer": "ipython3",
   "version": "3.9.7"
  }
 },
 "nbformat": 4,
 "nbformat_minor": 5
}
