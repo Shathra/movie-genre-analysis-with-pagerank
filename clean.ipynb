{
 "cells": [
  {
   "cell_type": "code",
   "execution_count": 4,
   "id": "570c6430",
   "metadata": {},
   "outputs": [],
   "source": [
    "import mga.dataset as dataset\n",
    "from pathlib import Path\n",
    "import pandas as pd"
   ]
  },
  {
   "cell_type": "code",
   "execution_count": 5,
   "id": "21e52527",
   "metadata": {},
   "outputs": [
    {
     "data": {
      "text/plain": [
       "'ratings.csv'"
      ]
     },
     "execution_count": 5,
     "metadata": {},
     "output_type": "execute_result"
    }
   ],
   "source": [
    "dataset.download_ml_small(force_download=True)"
   ]
  },
  {
   "cell_type": "code",
   "execution_count": null,
   "id": "bd9d63c1",
   "metadata": {},
   "outputs": [],
   "source": [
    "dataset.download_ml_25m(force_download=True)"
   ]
  },
  {
   "cell_type": "code",
   "execution_count": 11,
   "id": "0cd7bea6",
   "metadata": {},
   "outputs": [],
   "source": [
    "movie_df = pd.read_csv('movies.csv')\n",
    "link_df = pd.read_csv('links.csv')"
   ]
  },
  {
   "cell_type": "code",
   "execution_count": 12,
   "id": "089f88a5",
   "metadata": {},
   "outputs": [],
   "source": [
    "movie_df['imdb_id'] = link_df['imdbId']\n",
    "movie_df['tmdb_id'] = link_df['tmdbId']\n",
    "movie_df = movie_df.rename(columns={'movieId': 'movielens_id'})\n",
    "movie_df.to_csv('movies.csv', index_label='id')"
   ]
  },
  {
   "cell_type": "code",
   "execution_count": 13,
   "id": "812e9598",
   "metadata": {},
   "outputs": [
    {
     "name": "stdout",
     "output_type": "stream",
     "text": [
      "Total number of movies with no genre: 34\n",
      "Genres (19): {'Documentary', 'Animation', 'Film-Noir', 'Children', 'Western', 'Crime', 'IMAX', 'Action', 'Thriller', 'War', 'Mystery', 'Romance', 'Fantasy', 'Sci-Fi', 'Drama', 'Comedy', 'Horror', 'Adventure', 'Musical'}\n",
      "Ignored genres: {'IMAX', 'Film-Noir', 'Animation', 'Documentary'}\n"
     ]
    }
   ],
   "source": [
    "genre_set = set()\n",
    "for genre_str in movie_df['genres']:\n",
    "    genre_lst = genre_str.split('|')\n",
    "    for genre in genre_lst:\n",
    "        genre_set.add(genre)\n",
    "\n",
    "no_genre_key = '(no genres listed)'\n",
    "\n",
    "count_movie_with_no_genre = sum(movie_df['genres'] == no_genre_key)\n",
    "print(f'Total number of movies with no genre: {count_movie_with_no_genre}')\n",
    "genre_set.remove(no_genre_key)\n",
    "\n",
    "ignored_genre_set = {'IMAX', 'Film-Noir', 'Animation', 'Documentary'}\n",
    "\n",
    "print(f'Genres ({len(genre_set)}): {genre_set}')\n",
    "print(f'Ignored genres: {ignored_genre_set}')\n",
    "\n",
    "with open('genre.txt', 'w') as file:\n",
    "    for genre in genre_set:\n",
    "        file.write(f'{genre}\\n')"
   ]
  },
  {
   "cell_type": "code",
   "execution_count": 14,
   "id": "5ebd718e",
   "metadata": {},
   "outputs": [],
   "source": [
    "rating_df = pd.read_csv('ratings.csv')\n",
    "del rating_df['timestamp']\n",
    "\n",
    "movilens2id = pd.DataFrame(data=movie_df.index, index=movie_df['movielens_id'])\n",
    "rating_df['movieId'] = movilens2id.loc[rating_df['movieId']].values\n",
    "\n",
    "id2movielens = pd.Series(rating_df['userId'].drop_duplicates().sort_values().values)\n",
    "movielens2id = pd.Series(data=id2movielens.index, index=id2movielens)\n",
    "rating_df['userId'] = movielens2id.loc[rating_df['userId']].values\n",
    "\n",
    "rating_df = rating_df.rename(columns={'userId': 'user_id'})\n",
    "rating_df = rating_df.rename(columns={'movieId': 'movie_id'})"
   ]
  },
  {
   "cell_type": "code",
   "execution_count": 15,
   "id": "4d1275db",
   "metadata": {},
   "outputs": [],
   "source": [
    "row_count = rating_df['user_id'].max() + 1\n",
    "col_count = rating_df['movie_id'].max() + 1\n",
    "nnz_count = rating_df.shape[0]\n",
    "\n",
    "with open('ratings.mtx', 'w') as file:\n",
    "    file.write(f'{row_count} {col_count} {nnz_count}\\n')\n",
    "    rating_df.to_csv(file, index=False, sep=' ', header=False)"
   ]
  },
  {
   "cell_type": "code",
   "execution_count": 16,
   "id": "6e3bf36f",
   "metadata": {},
   "outputs": [],
   "source": [
    "Path(\"ratings.csv\").unlink()\n",
    "Path(\"links.csv\").unlink()"
   ]
  }
 ],
 "metadata": {
  "kernelspec": {
   "display_name": "Python 3 (ipykernel)",
   "language": "python",
   "name": "python3"
  },
  "language_info": {
   "codemirror_mode": {
    "name": "ipython",
    "version": 3
   },
   "file_extension": ".py",
   "mimetype": "text/x-python",
   "name": "python",
   "nbconvert_exporter": "python",
   "pygments_lexer": "ipython3",
   "version": "3.9.7"
  }
 },
 "nbformat": 4,
 "nbformat_minor": 5
}
