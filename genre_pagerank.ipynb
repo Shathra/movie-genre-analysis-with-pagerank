{
 "cells": [
  {
   "cell_type": "code",
   "execution_count": 6,
   "id": "33b45385",
   "metadata": {},
   "outputs": [],
   "source": [
    "import networkx as nx\n",
    "import pandas as pd\n",
    "import numpy as np\n",
    "from tqdm import tqdm\n",
    "\n",
    "DIFFERENT_ALPHA_POLICY = 0\n",
    "SAME_ALPHA_POLICY = 1\n",
    "\n",
    "policy = DIFFERENT_ALPHA_POLICY\n",
    "prob_teleport = 0.25"
   ]
  },
  {
   "cell_type": "code",
   "execution_count": 7,
   "id": "1f12bebd",
   "metadata": {},
   "outputs": [],
   "source": [
    "movie_df = pd.read_csv('movies.csv')\n",
    "movie_count = movie_df.shape[0]"
   ]
  },
  {
   "cell_type": "code",
   "execution_count": 2,
   "id": "0762e226",
   "metadata": {},
   "outputs": [],
   "source": [
    "edge_df = pd.read_csv('edges.csv')\n",
    "df_append = pd.DataFrame({'source':edge_df['destination'], \n",
    "                          'destination':edge_df['source'],\n",
    "                          'weight':edge_df['weight']})\n",
    "edge_df = edge_df.append(df_append)"
   ]
  },
  {
   "cell_type": "code",
   "execution_count": 4,
   "id": "f5d45bdd",
   "metadata": {},
   "outputs": [],
   "source": [
    "G = nx.from_pandas_edgelist(edge_df, \n",
    "                            source='source', \n",
    "                            target='destination', \n",
    "                            edge_attr='weight',\n",
    "                            create_using=nx.DiGraph)\n",
    "edge_df = None"
   ]
  },
  {
   "cell_type": "code",
   "execution_count": 28,
   "id": "9bc64298",
   "metadata": {},
   "outputs": [
    {
     "name": "stdout",
     "output_type": "stream",
     "text": [
      "Edge count: 1339532\n",
      "Vertex count: 1572\n",
      "Density: 0.5424\n"
     ]
    }
   ],
   "source": [
    "print(f'Edge count: {G.number_of_edges()}')\n",
    "print(f'Vertex count: {movie_count}')\n",
    "\n",
    "density = G.number_of_edges() / (movie_count * (movie_count - 1))\n",
    "\n",
    "print(f'Density: {density:.4f}')"
   ]
  },
  {
   "cell_type": "code",
   "execution_count": 10,
   "id": "6faac1db",
   "metadata": {},
   "outputs": [
    {
     "name": "stdout",
     "output_type": "stream",
     "text": [
      "Nodes with 0 incoming edges : 0\n",
      "Nodes with 0 outgoing edges : 0\n"
     ]
    }
   ],
   "source": [
    "in_edge_count = [len(G.in_edges(idx)) for idx in movie_df['id']]\n",
    "in_edge_count = np.array(in_edge_count)\n",
    "\n",
    "out_edge_count = [len(G.out_edges(idx)) for idx in movie_df['id']]\n",
    "out_edge_count = np.array(out_edge_count)\n",
    "\n",
    "zero_in_edge_node_count = (in_edge_count == 0).sum()\n",
    "print(f'Nodes with 0 incoming edges : {zero_in_edge_node_count}')\n",
    "zero_out_edge_node_count = (out_edge_count == 0).sum()\n",
    "print(f'Nodes with 0 outgoing edges : {zero_out_edge_node_count}')"
   ]
  },
  {
   "cell_type": "code",
   "execution_count": 15,
   "id": "0c0a0548",
   "metadata": {},
   "outputs": [
    {
     "name": "stderr",
     "output_type": "stream",
     "text": [
      "100%|█████████████████████████████████████████████████████████████████████████████████████████████████████████████████████████████████████████████████████████████████████████████████████████████████████████████████████| 1572/1572 [00:02<00:00, 642.39it/s]\n"
     ]
    }
   ],
   "source": [
    "# Normalize weights\n",
    "\n",
    "for i in tqdm(movie_df.index):\n",
    "    total_w = sum(data['weight'] for u, v, data in G.out_edges(i, data=True))\n",
    "    if total_w > 0:\n",
    "        for u, v, data in G.out_edges(i, data=True):\n",
    "            G[u][v]['weight'] = data['weight'] / total_w"
   ]
  },
  {
   "cell_type": "code",
   "execution_count": 16,
   "id": "784513e1",
   "metadata": {},
   "outputs": [],
   "source": [
    "# Normal Pagerank\n",
    "teleport_prob = 0.15\n",
    "alpha = 1 - teleport_prob\n",
    "result = nx.pagerank(G, weight='weight', alpha=alpha)\n",
    "movie_df['pagerank'] =  pd.Series(result)"
   ]
  },
  {
   "cell_type": "code",
   "execution_count": 19,
   "id": "16bfed15",
   "metadata": {},
   "outputs": [],
   "source": [
    "# Creating personalization sets\n",
    "with open('genre.txt') as file:\n",
    "    genre_set = set(line.strip() for line in file)\n",
    "\n",
    "\n",
    "genre2movies = {genre:[] for genre in genre_set}\n",
    "for movie_id, genre_str in zip(movie_df['id'], movie_df['genres']):\n",
    "    genre_lst = genre_str.split('|')\n",
    "    for genre in genre_lst:\n",
    "        if genre in genre2movies:\n",
    "            genre2movies[genre].append(movie_id)\n",
    "\n",
    "genre2count = {genre:len(movies) for genre, movies in genre2movies.items()}"
   ]
  },
  {
   "cell_type": "code",
   "execution_count": 21,
   "id": "cf96e989",
   "metadata": {},
   "outputs": [
    {
     "name": "stdout",
     "output_type": "stream",
     "text": [
      "{'Horror': 0.06162790697674418, 'War': 0.0377906976744186, 'Crime': 0.1436046511627907, 'Romance': 0.17034883720930233, 'Adventure': 0.22616279069767442, 'Children': 0.08488372093023255, 'Action': 0.2947674418604651, 'Thriller': 0.25, 'Fantasy': 0.10755813953488372, 'Drama': 0.3808139534883721, 'Western': 0.020930232558139535, 'Sci-Fi': 0.1686046511627907, 'Comedy': 0.3627906976744186, 'Musical': 0.03662790697674419, 'Mystery': 0.07383720930232558}\n",
      "{'Horror': 0.0005813953488372093, 'War': 0.0005813953488372093, 'Crime': 0.0005813953488372093, 'Romance': 0.0005813953488372093, 'Adventure': 0.0005813953488372093, 'Children': 0.0005813953488372093, 'Action': 0.0005813953488372093, 'Thriller': 0.0005813953488372093, 'Fantasy': 0.0005813953488372093, 'Drama': 0.0005813953488372093, 'Western': 0.0005813953488372093, 'Sci-Fi': 0.0005813953488372093, 'Comedy': 0.0005813953488372093, 'Musical': 0.0005813953488372093, 'Mystery': 0.0005813953488372093}\n"
     ]
    }
   ],
   "source": [
    "\n",
    "if policy == DIFFERENT_ALPHA_POLICY:\n",
    "    # Different alpha values\n",
    "    prob_teleport_each_movie = prob_teleport / genre2count['Thriller']\n",
    "    genre2teleport_prob = {genre:prob_teleport_each_movie * count for genre, count in genre2count.items()}\n",
    "    print(genre2teleport_prob)\n",
    "    prob_teleport_each_movie = {genre:prob_teleport_each_movie for genre, count in genre2count.items()}\n",
    "    print(prob_teleport_each_movie)\n",
    "else:\n",
    "    # Same alpha value\n",
    "    prob_teleport_each_movie = {genre:prob_teleport/count for genre, count in genre2count.items()}\n",
    "    genre2teleport_prob = {genre:prob_teleport for genre, count in genre2count.items()}"
   ]
  },
  {
   "cell_type": "code",
   "execution_count": 23,
   "id": "90f8b807",
   "metadata": {},
   "outputs": [
    {
     "name": "stderr",
     "output_type": "stream",
     "text": [
      "  0%|                                                                                                                                                                                                                                   | 0/15 [00:00<?, ?it/s]/tmp/ipykernel_22848/2169646053.py:4: DeprecationWarning: networkx.pagerank_numpy is deprecated and will be removed in NetworkX 3.0, use networkx.pagerank instead.\n",
      "  result = nx.pagerank_numpy(G, alpha=alpha, weight='weight', personalization=personalization_dict)\n",
      "100%|██████████████████████████████████████████████████████████████████████████████████████████████████████████████████████████████████████████████████████████████████████████████████████████████████████████████████████████| 15/15 [01:01<00:00,  4.11s/it]\n"
     ]
    }
   ],
   "source": [
    "for genre in tqdm(genre2movies):\n",
    "    personalization_dict = {movie_id:1 for movie_id in genre2movies[genre]}\n",
    "    alpha = 1 - genre2teleport_prob[genre]\n",
    "    result = nx.pagerank(G, alpha=alpha, weight='weight', personalization=personalization_dict)\n",
    "    movie_df[genre] =  pd.Series(result)"
   ]
  },
  {
   "cell_type": "code",
   "execution_count": 25,
   "id": "f152ec61",
   "metadata": {},
   "outputs": [],
   "source": [
    "movie_df.to_csv('movies_pr.csv')"
   ]
  }
 ],
 "metadata": {
  "kernelspec": {
   "display_name": "Python 3 (ipykernel)",
   "language": "python",
   "name": "python3"
  },
  "language_info": {
   "codemirror_mode": {
    "name": "ipython",
    "version": 3
   },
   "file_extension": ".py",
   "mimetype": "text/x-python",
   "name": "python",
   "nbconvert_exporter": "python",
   "pygments_lexer": "ipython3",
   "version": "3.9.7"
  }
 },
 "nbformat": 4,
 "nbformat_minor": 5
}
