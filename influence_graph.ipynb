{
 "cells": [
  {
   "cell_type": "code",
   "execution_count": null,
   "id": "95b12bad",
   "metadata": {},
   "outputs": [],
   "source": [
    "import networkx as nx\n",
    "import pandas as pd\n",
    "import numpy as np\n",
    "import matplotlib.pyplot as plt\n",
    "import seaborn as sns\n",
    "from tqdm import tqdm\n",
    "\n",
    "plt.rcParams['figure.figsize'] = (6, 6)\n",
    "\n",
    "pd.set_option('display.max_columns', None)\n",
    "pd.set_option('display.expand_frame_repr', False)\n",
    "pd.set_option('max_colwidth', None)\n",
    "\n",
    "sns.set()"
   ]
  },
  {
   "cell_type": "code",
   "execution_count": null,
   "id": "c42100e6",
   "metadata": {},
   "outputs": [],
   "source": [
    "movie_df = pd.read_csv('movies.csv')\n",
    "rating_df = pd.read_csv('ratings.csv')"
   ]
  },
  {
   "cell_type": "code",
   "execution_count": null,
   "id": "dfd48fa9",
   "metadata": {},
   "outputs": [],
   "source": [
    "movie_count = movie_df['id'].max() + 1\n",
    "movie2userset = [set() for _ in range(movie_count)]"
   ]
  },
  {
   "cell_type": "code",
   "execution_count": null,
   "id": "c1a2d388",
   "metadata": {},
   "outputs": [],
   "source": [
    "for row in rating_df.itertuples(index=True, name='Pandas'):\n",
    "    movie2userset[row.movie_id].add(row.user_id)\n",
    "\n",
    "movie2view = {movie:len(userset) for movie, userset in enumerate(movie2userset)}"
   ]
  },
  {
   "cell_type": "code",
   "execution_count": null,
   "id": "d48c3654",
   "metadata": {},
   "outputs": [],
   "source": [
    "movie_df['view_count'] = pd.Series(movie2view)\n",
    "movie_count = 1000\n",
    "movie_df = movie_df.nlargest(movie_count, 'view_count')\n",
    "rating_df = None"
   ]
  },
  {
   "cell_type": "code",
   "execution_count": null,
   "id": "4f41daf3",
   "metadata": {},
   "outputs": [],
   "source": [
    "G = nx.DiGraph()\n",
    "G.add_nodes_from(movie_df['id'], nodetype = int)"
   ]
  },
  {
   "cell_type": "code",
   "execution_count": null,
   "id": "a6cff195",
   "metadata": {},
   "outputs": [],
   "source": [
    "# LEGACY\n",
    "# intersection / A\n",
    "# threshold = 0.02\n",
    "threshold = 0.6\n",
    "for i in tqdm(range(movie_count)):\n",
    "    for j in range(i + 1, movie_count):\n",
    "        if len(movie2userset[i]) > 0:\n",
    "            w = len(movie2userset[i] & movie2userset[j]) / len(movie2userset[i])\n",
    "            if w > threshold:\n",
    "                G.add_edge(i, j, weight=w)\n",
    "        if len(movie2userset[j]) > 0:\n",
    "            w = len(movie2userset[i] & movie2userset[j]) / len(movie2userset[j])\n",
    "            if w > threshold:\n",
    "                G.add_edge(j, i, weight=w)"
   ]
  },
  {
   "cell_type": "code",
   "execution_count": null,
   "id": "5851699c",
   "metadata": {},
   "outputs": [],
   "source": [
    "# LEGACY\n",
    "# intersection / min\n",
    "# threshold = 0.4\n",
    "threshold = 0.02\n",
    "for i in tqdm(range(movie_count)):\n",
    "    for j in range(i + 1, movie_count):\n",
    "        if len(movie2userset[i]) > 0 and len(movie2userset[j]) > 0:\n",
    "            w = len(movie2userset[i] & movie2userset[j]) / min(len(movie2userset[i]), len(movie2userset[j]))\n",
    "            if w > threshold:\n",
    "                G.add_edge(i, j, weight=w)\n",
    "                G.add_edge(j, i, weight=w)"
   ]
  },
  {
   "cell_type": "code",
   "execution_count": null,
   "id": "8734bd5b",
   "metadata": {},
   "outputs": [],
   "source": [
    "threshold = 0.4\n",
    "for i in tqdm(range(movie_count)):\n",
    "    i_id = movie_df.iloc[i]['id']\n",
    "    for j in range(i + 1, movie_count):\n",
    "        j_id = movie_df.iloc[j]['id']\n",
    "        if len(movie2userset[i_id]) > 0 and len(movie2userset[j_id]) > 0:\n",
    "            w = len(movie2userset[i_id] & movie2userset[j_id]) / min(len(movie2userset[i_id]), len(movie2userset[j_id]))\n",
    "            if w > threshold:\n",
    "                G.add_edge(i_id, j_id, weight=w)\n",
    "                G.add_edge(j_id, i_id, weight=w)"
   ]
  },
  {
   "cell_type": "code",
   "execution_count": null,
   "id": "f1b2e402",
   "metadata": {},
   "outputs": [],
   "source": [
    "print(G.number_of_edges())\n",
    "print(movie_count)\n",
    "print(G.number_of_edges() / (movie_count * (movie_count - 1)))"
   ]
  },
  {
   "cell_type": "code",
   "execution_count": null,
   "id": "8685886d",
   "metadata": {},
   "outputs": [],
   "source": [
    "in_edge_count = [len(G.in_edges(idx)) for idx in movie_df['id']]\n",
    "in_edge_count = np.array(in_edge_count)\n",
    "\n",
    "out_edge_count = [len(G.out_edges(idx)) for idx in movie_df['id']]\n",
    "out_edge_count = np.array(out_edge_count)"
   ]
  },
  {
   "cell_type": "code",
   "execution_count": null,
   "id": "e1a832bb",
   "metadata": {},
   "outputs": [],
   "source": [
    "zero_in_edge_node_count = (in_edge_count == 0).sum()\n",
    "print(f'Nodes with 0 incoming edges : {zero_in_edge_node_count}')\n",
    "zero_out_edge_node_count = (out_edge_count == 0).sum()\n",
    "print(f'Nodes with 0 outgoing edges : {zero_out_edge_node_count}')"
   ]
  },
  {
   "cell_type": "code",
   "execution_count": null,
   "id": "97db429e",
   "metadata": {},
   "outputs": [],
   "source": [
    "# Normalize weights\n",
    "\n",
    "for i in tqdm(movie_df.index):\n",
    "    total_w = sum(data['weight'] for u, v, data in G.out_edges(i, data=True))\n",
    "    if total_w > 0:\n",
    "        for u, v, data in G.out_edges(i, data=True):\n",
    "            G[u][v]['weight'] = data['weight'] / total_w"
   ]
  },
  {
   "cell_type": "code",
   "execution_count": null,
   "id": "97391932",
   "metadata": {},
   "outputs": [],
   "source": [
    "# Normal Pagerank\n",
    "teleport_prob = 0.15\n",
    "alpha = 1 - teleport_prob\n",
    "result = nx.pagerank(G, weight='weight', alpha=alpha)\n",
    "movie_df['pagerank'] =  pd.Series(result)\n",
    "\n",
    "movie_df['pagerank_adj'] = movie_df['pagerank'] - teleport_prob / movie_count\n",
    "movie_df['pagerank_adj'] = movie_df['pagerank_adj'] / movie_df['pagerank_adj'].sum()"
   ]
  },
  {
   "cell_type": "code",
   "execution_count": null,
   "id": "87489ef4",
   "metadata": {},
   "outputs": [],
   "source": [
    "# Creating personalization sets\n",
    "with open('genre.txt') as file:\n",
    "    genre_set = set(line.strip() for line in file)\n",
    "\n",
    "\n",
    "genre2movies = {genre:[] for genre in genre_set}\n",
    "for movie_id, genre_str in zip(movie_df['id'], movie_df['genres']):\n",
    "    genre_lst = genre_str.split('|')\n",
    "    for genre in genre_lst:\n",
    "        if genre in genre2movies:\n",
    "            genre2movies[genre].append(movie_id)\n",
    "            \n",
    "# genre2movies['Animation'].remove(0)\n",
    "\n",
    "genre2count = {genre:len(movies) for genre, movies in genre2movies.items()}"
   ]
  },
  {
   "cell_type": "code",
   "execution_count": null,
   "id": "bb36b01c",
   "metadata": {},
   "outputs": [],
   "source": [
    "genre2count"
   ]
  },
  {
   "cell_type": "code",
   "execution_count": null,
   "id": "f0f685e1",
   "metadata": {},
   "outputs": [],
   "source": [
    "# Different alpha values\n",
    "prob_teleport = 0.25\n",
    "prob_teleport_each_movie = prob_teleport / genre2count['Thriller']\n",
    "genre2teleport_prob = {genre:prob_teleport_each_movie * count for genre, count in genre2count.items()}\n",
    "print(genre2teleport_prob)\n",
    "prob_teleport_each_movie = {genre:prob_teleport_each_movie for genre, count in genre2count.items()}\n",
    "print(prob_teleport_each_movie)"
   ]
  },
  {
   "cell_type": "code",
   "execution_count": null,
   "id": "1ffc85e6",
   "metadata": {},
   "outputs": [],
   "source": [
    "# Same alpha value\n",
    "prob_teleport = 0.25\n",
    "prob_teleport_each_movie = {genre:prob_teleport/count for genre, count in genre2count.items()}\n",
    "genre2teleport_prob = {genre:0.25 for genre, count in genre2count.items()}"
   ]
  },
  {
   "cell_type": "code",
   "execution_count": null,
   "id": "8833af2f",
   "metadata": {},
   "outputs": [],
   "source": [
    "# NOW LEGACY\n",
    "# Same alpha value\n",
    "prob_teleport = 0.15\n",
    "prob_teleport_each_movie = {genre:prob_teleport/count for genre, count in genre2count.items()}\n",
    "genre2teleport_prob = {genre:0.15 for genre, count in genre2count.items()}\n",
    "\n",
    "\n",
    "\n",
    "# ----------\n",
    "\n",
    "particular_node_weights = {src:data['weight'] for src, dst, data in G.in_edges(0, data=True)}\n",
    "particular_node_df = movie_df.query('id in @particular_node_weights').copy()\n",
    "particular_node_df['out_weight'] = pd.Series(particular_node_weights)\n",
    "particular_node_df.sort_values(by=['out_weight'], ascending=False)"
   ]
  },
  {
   "cell_type": "code",
   "execution_count": null,
   "id": "059ea978",
   "metadata": {},
   "outputs": [],
   "source": [
    "for genre in tqdm(genre2movies):\n",
    "    personalization_dict = {movie_id:1 for movie_id in genre2movies[genre]}\n",
    "    alpha = 1 - genre2teleport_prob[genre]\n",
    "    result = nx.pagerank(G, alpha=alpha, weight='weight', personalization=personalization_dict)\n",
    "    movie_df[genre] =  pd.Series(result)\n",
    "\n",
    "for genre in tqdm(genre2movies):\n",
    "    genre2movies\n",
    "    movie_df[f'{genre}_adj'] = movie_df[genre]\n",
    "    movie_df.loc[genre2movies[genre], f'{genre}_adj'] -= prob_teleport_each_movie[genre]\n",
    "    movie_df[f'{genre}_adj'] = movie_df[f'{genre}_adj'] / movie_df[f'{genre}_adj'].sum()"
   ]
  },
  {
   "cell_type": "code",
   "execution_count": null,
   "id": "d19d1a89",
   "metadata": {},
   "outputs": [],
   "source": [
    "# NUMPY\n",
    "\n",
    "for genre in tqdm(genre2movies):\n",
    "    personalization_dict = {movie_id:1 for movie_id in genre2movies[genre]}\n",
    "    alpha = 1 - genre2teleport_prob[genre]\n",
    "    result = nx.pagerank_numpy(G, alpha=alpha, weight='weight', personalization=personalization_dict)\n",
    "    movie_df[genre] =  pd.Series(result)\n",
    "\n",
    "for genre in tqdm(genre2movies):\n",
    "    genre2movies\n",
    "    movie_df[f'{genre}_adj'] = movie_df[genre]\n",
    "    movie_df.loc[genre2movies[genre], f'{genre}_adj'] -= prob_teleport_each_movie[genre]\n",
    "    movie_df[f'{genre}_adj'] = movie_df[f'{genre}_adj'] / movie_df[f'{genre}_adj'].sum()"
   ]
  },
  {
   "cell_type": "code",
   "execution_count": null,
   "id": "41696ad9",
   "metadata": {},
   "outputs": [],
   "source": [
    "movie_df"
   ]
  },
  {
   "cell_type": "code",
   "execution_count": null,
   "id": "169dc429",
   "metadata": {},
   "outputs": [],
   "source": [
    "x = np.array(movie_df['pagerank_adj'])\n",
    "y = np.array(movie_df['Western_adj'] / movie_df['pagerank_adj'])\n",
    "plt.scatter(x, y)\n",
    "\n",
    "m, b = np.polyfit(x, y, deg=1)\n",
    "x_fit = np.array([x.min(), x.max()])\n",
    "y_fit = m * x_fit + b\n",
    "plt.plot(x_fit, y_fit)\n",
    "\n",
    "plt.show()\n",
    "\n",
    "new_y = y / (m * x + b)"
   ]
  },
  {
   "cell_type": "code",
   "execution_count": null,
   "id": "1bf60644",
   "metadata": {},
   "outputs": [],
   "source": [
    "genre_column_lst = []\n",
    "for genre in genre_set:\n",
    "    genre_column_lst.append(genre)\n",
    "    genre_column_lst.append(f'{genre}_adj')\n",
    "genre_column_lst.append('pagerank')\n",
    "genre_column_lst.append('pagerank_adj')\n",
    "score_df = movie_df.drop(columns=genre_column_lst)"
   ]
  },
  {
   "cell_type": "code",
   "execution_count": null,
   "id": "17393e33",
   "metadata": {},
   "outputs": [],
   "source": [
    "for genre in genre_set:\n",
    "    \n",
    "    x = np.array(movie_df['pagerank_adj'])\n",
    "    y = np.array(movie_df[f'{genre}_adj'] / movie_df['pagerank_adj'])\n",
    "    m, b = np.polyfit(x, y, deg=1)\n",
    "    new_y = y / (m * x + b)\n",
    "    \n",
    "    score_df[genre] = new_y - 1"
   ]
  },
  {
   "cell_type": "code",
   "execution_count": null,
   "id": "cd8f0d9c",
   "metadata": {},
   "outputs": [],
   "source": [
    "for genre in genre_set:\n",
    "    \n",
    "    x = np.array(movie_df['pagerank'])\n",
    "    y = np.array(movie_df[f'{genre}'] / movie_df['pagerank'])\n",
    "    m, b = np.polyfit(x, y, deg=1)\n",
    "    new_y = y / (m * x + b)\n",
    "    \n",
    "    score_df[genre] = new_y - 1"
   ]
  },
  {
   "cell_type": "code",
   "execution_count": null,
   "id": "5158b74a",
   "metadata": {},
   "outputs": [],
   "source": [
    "# This the one that works best\n",
    "\n",
    "for genre in genre_set:\n",
    "    \n",
    "    x = np.array(movie_df['pagerank'])\n",
    "    y = np.array(movie_df[f'{genre}'])\n",
    "    m, b = np.polyfit(x, y, deg=1)\n",
    "    new_y = y / (m * x + b)\n",
    "    \n",
    "    score_df[genre] = new_y - 1"
   ]
  },
  {
   "cell_type": "code",
   "execution_count": null,
   "id": "b7f37192",
   "metadata": {},
   "outputs": [],
   "source": [
    "for genre in genre_set:\n",
    "    score_df[genre] = movie_df[f'{genre}_adj'] / movie_df['pagerank_adj'] - 1"
   ]
  },
  {
   "cell_type": "code",
   "execution_count": null,
   "id": "2d4d1f22",
   "metadata": {},
   "outputs": [],
   "source": [
    "for genre in genre_set:\n",
    "    score_df[genre] = movie_df[f'{genre}'] / movie_df['pagerank'] - 1"
   ]
  },
  {
   "cell_type": "code",
   "execution_count": null,
   "id": "8ce1ad91",
   "metadata": {},
   "outputs": [],
   "source": [
    "score_df"
   ]
  },
  {
   "cell_type": "code",
   "execution_count": null,
   "id": "f2707e25",
   "metadata": {},
   "outputs": [],
   "source": [
    "score_df.loc[score_df['tmdb_id'] == 747]"
   ]
  },
  {
   "cell_type": "code",
   "execution_count": null,
   "id": "18d1d8d5",
   "metadata": {},
   "outputs": [],
   "source": [
    "# pd.set_option('display.expand_frame_repr', False)\n",
    "# score_df.nlargest(10, 'Horror')\n",
    "score_df.nlargest(20, 'Horror')"
   ]
  },
  {
   "cell_type": "code",
   "execution_count": null,
   "id": "e6f816d5",
   "metadata": {},
   "outputs": [],
   "source": [
    "colors = sns.color_palette('tab20')\n",
    "genre_lst = list(genre_set)\n",
    "genre_lst.sort()\n",
    "genre2color = {genre:colors[i] for i, genre in enumerate(genre_lst)}"
   ]
  },
  {
   "cell_type": "code",
   "execution_count": null,
   "id": "3ad78698",
   "metadata": {},
   "outputs": [],
   "source": [
    "some_movie_id = [5335, 314, 277, 257, 1939, 659, 4137, 520, 8063, 6062, 7075, 4918, 789, 2547, 6770, 7562, 2439]\n",
    "\n",
    "# with pd.option_context('display.max_rows', None, 'display.max_columns', None):\n",
    "#    print(movie_df[['id', 'title']])"
   ]
  },
  {
   "cell_type": "code",
   "execution_count": null,
   "id": "5e191bda",
   "metadata": {},
   "outputs": [],
   "source": [
    "for index in some_movie_id:\n",
    "    title = score_df.loc[index]['title']\n",
    "    genre_lst = []\n",
    "    score_lst = []\n",
    "    color_lst = []\n",
    "    \n",
    "    print(score_df.loc[index]['genres'])\n",
    "\n",
    "    for genre in genre_set:\n",
    "        score = score_df.loc[index][genre]\n",
    "        if score > 0:\n",
    "            genre_lst.append(genre)\n",
    "            score_lst.append(score)\n",
    "            color_lst.append(genre2color[genre])\n",
    "\n",
    "    plt.pie(score_lst, labels = genre_lst, colors=color_lst, autopct='%.1f%%')\n",
    "    plt.title(title)\n",
    "    plt.show()"
   ]
  },
  {
   "cell_type": "code",
   "execution_count": null,
   "id": "cf8852a1",
   "metadata": {
    "scrolled": false
   },
   "outputs": [],
   "source": [
    "for index in some_movie_id:\n",
    "    title = score_df.loc[index]['title']\n",
    "    genre_lst = []\n",
    "    score_lst = []\n",
    "    color_lst = []\n",
    "    \n",
    "    print(score_df.loc[index]['genres'])\n",
    "\n",
    "    for genre in genre_set:\n",
    "        score = score_df.loc[index][genre]\n",
    "        if score > 0:\n",
    "            genre_lst.append(genre)\n",
    "            score_lst.append(score)\n",
    "            color_lst.append(genre2color[genre])\n",
    "\n",
    "    plt.pie(score_lst, labels = genre_lst, colors=color_lst, autopct='%.1f%%')\n",
    "    plt.title(title)\n",
    "    plt.show()"
   ]
  },
  {
   "cell_type": "code",
   "execution_count": null,
   "id": "9772c20c",
   "metadata": {},
   "outputs": [],
   "source": [
    "# LEGACY\n",
    "\n",
    "pgrank_id_pair_lst = [(value, key) for key, value in result.items()]\n",
    "pgrank_id_pair_lst.sort(reverse=True)"
   ]
  },
  {
   "cell_type": "code",
   "execution_count": null,
   "id": "e44fafe5",
   "metadata": {},
   "outputs": [],
   "source": [
    "pgrank_id_pair_lst"
   ]
  },
  {
   "cell_type": "code",
   "execution_count": null,
   "id": "d5e9fb77",
   "metadata": {},
   "outputs": [],
   "source": [
    "top_movie_id_lst = [idx for pagerank, idx in pgrank_id_pair_lst[:50]]\n",
    "top = movie_df.query('id in @top_movie_id_lst').copy()\n",
    "pagerank_column = [(idx, pagerank) for pagerank, idx in pgrank_id_pair_lst[:50]]\n",
    "pagerank_column.sort()\n",
    "pagerank_column = [pagerank for idx, pagerank in pagerank_column]\n",
    "top['pagerank'] = pagerank_column\n",
    "top"
   ]
  },
  {
   "cell_type": "code",
   "execution_count": null,
   "id": "72b12a1a",
   "metadata": {},
   "outputs": [],
   "source": [
    "top_movie_id_lst = [idx for pagerank, idx in pgrank_id_pair_lst[:50]]\n",
    "top = movie_df.query('id in @top_movie_id_lst').copy()\n",
    "pagerank_column = [(idx, pagerank) for pagerank, idx in pgrank_id_pair_lst[:50]]\n",
    "pagerank_column.sort()\n",
    "pagerank_column = [pagerank for idx, pagerank in pagerank_column]\n",
    "top['pagerank'] = pagerank_column\n",
    "top"
   ]
  },
  {
   "cell_type": "code",
   "execution_count": null,
   "id": "7e10470d",
   "metadata": {},
   "outputs": [],
   "source": [
    "sns.distplot(in_edge_count)\n",
    "plt.show()\n",
    "sns.distplot(out_edge_count)\n",
    "plt.show()"
   ]
  },
  {
   "cell_type": "code",
   "execution_count": null,
   "id": "dc7eeb20",
   "metadata": {},
   "outputs": [],
   "source": [
    "# LEGACY CODE\n",
    "\n",
    "w_lst = []\n",
    "for i in tqdm(range(movie_count)):\n",
    "    for j in range(i + 1, movie_count):\n",
    "        if len(movie2userset[i]) > 0:\n",
    "            w = len(movie2userset[i] & movie2userset[j]) / len(movie2userset[i])\n",
    "        else:\n",
    "            w = 0\n",
    "        w_lst.append(w)\n",
    "        if len(movie2userset[j]) > 0:\n",
    "            w = len(movie2userset[i] & movie2userset[j]) / len(movie2userset[j])\n",
    "        else:\n",
    "            w = 0\n",
    "        w_lst.append(w)\n",
    "w_lst = np.array(w_lst)\n",
    "w_lst_sample = np.random.choice(w_lst, size=1_000_000)\n",
    "sns.distplot(w_lst_sample)"
   ]
  }
 ],
 "metadata": {
  "kernelspec": {
   "display_name": "Python 3 (ipykernel)",
   "language": "python",
   "name": "python3"
  },
  "language_info": {
   "codemirror_mode": {
    "name": "ipython",
    "version": 3
   },
   "file_extension": ".py",
   "mimetype": "text/x-python",
   "name": "python",
   "nbconvert_exporter": "python",
   "pygments_lexer": "ipython3",
   "version": "3.9.7"
  }
 },
 "nbformat": 4,
 "nbformat_minor": 5
}
